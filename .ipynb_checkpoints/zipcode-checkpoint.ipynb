{
 "cells": [
  {
   "cell_type": "code",
   "execution_count": 1,
   "metadata": {
    "collapsed": true
   },
   "outputs": [],
   "source": [
    "import pandas as pd\n",
    "import numpy as np\n",
    "from IPython.core.interactiveshell import InteractiveShell\n",
    "InteractiveShell.ast_node_interactivity = \"all\""
   ]
  },
  {
   "cell_type": "code",
   "execution_count": 2,
   "metadata": {
    "collapsed": true
   },
   "outputs": [],
   "source": [
    "import seaborn as sb\n",
    "# seaborn the dataviz api to use\n",
    "%matplotlib inline\n",
    "import matplotlib.pyplot as plt"
   ]
  },
  {
   "cell_type": "code",
   "execution_count": 3,
   "metadata": {
    "collapsed": false
   },
   "outputs": [
    {
     "name": "stderr",
     "output_type": "stream",
     "text": [
      "C:\\Users\\Amber.Keller\\AppData\\Local\\Continuum\\Anaconda3\\lib\\site-packages\\IPython\\core\\interactiveshell.py:2717: DtypeWarning: Columns (246,248) have mixed types. Specify dtype option on import or set low_memory=False.\n",
      "  interactivity=interactivity, compiler=compiler, result=result)\n"
     ]
    }
   ],
   "source": [
    "p_zip = pd.read_csv(\"HomePrice_ZipCode.csv\")"
   ]
  },
  {
   "cell_type": "code",
   "execution_count": 4,
   "metadata": {
    "collapsed": false
   },
   "outputs": [
    {
     "data": {
      "text/html": [
       "<div>\n",
       "<table border=\"1\" class=\"dataframe\">\n",
       "  <thead>\n",
       "    <tr style=\"text-align: right;\">\n",
       "      <th></th>\n",
       "      <th>RegionID</th>\n",
       "      <th>RegionName</th>\n",
       "      <th>City</th>\n",
       "      <th>State</th>\n",
       "      <th>Metro</th>\n",
       "      <th>CountyName</th>\n",
       "      <th>SizeRank</th>\n",
       "      <th>1996-04</th>\n",
       "      <th>1996-05</th>\n",
       "      <th>1996-06</th>\n",
       "      <th>...</th>\n",
       "      <th>2017-03</th>\n",
       "      <th>2017-04</th>\n",
       "      <th>2017-05</th>\n",
       "      <th>2017-06</th>\n",
       "      <th>2017-07</th>\n",
       "      <th>2017-08</th>\n",
       "      <th>2017-09</th>\n",
       "      <th>2017-10</th>\n",
       "      <th>2017-11</th>\n",
       "      <th>2017-12</th>\n",
       "    </tr>\n",
       "  </thead>\n",
       "  <tbody>\n",
       "    <tr>\n",
       "      <th>0</th>\n",
       "      <td>84654.0</td>\n",
       "      <td>60657.0</td>\n",
       "      <td>Chicago</td>\n",
       "      <td>IL</td>\n",
       "      <td>Chicago</td>\n",
       "      <td>Cook</td>\n",
       "      <td>1.0</td>\n",
       "      <td>420800.0</td>\n",
       "      <td>423500.0</td>\n",
       "      <td>426200.0</td>\n",
       "      <td>...</td>\n",
       "      <td>1087500.0</td>\n",
       "      <td>1080200.0</td>\n",
       "      <td>1073700.0</td>\n",
       "      <td>1064100.0</td>\n",
       "      <td>1052600.0</td>\n",
       "      <td>1047600.0</td>\n",
       "      <td>1047700.0</td>\n",
       "      <td>1047600.0</td>\n",
       "      <td>1048800.0</td>\n",
       "      <td>1051600.0</td>\n",
       "    </tr>\n",
       "    <tr>\n",
       "      <th>1</th>\n",
       "      <td>84616.0</td>\n",
       "      <td>60614.0</td>\n",
       "      <td>Chicago</td>\n",
       "      <td>IL</td>\n",
       "      <td>Chicago</td>\n",
       "      <td>Cook</td>\n",
       "      <td>2.0</td>\n",
       "      <td>542400.0</td>\n",
       "      <td>546700.0</td>\n",
       "      <td>551700.0</td>\n",
       "      <td>...</td>\n",
       "      <td>1526300.0</td>\n",
       "      <td>1527000.0</td>\n",
       "      <td>1524600.0</td>\n",
       "      <td>1516600.0</td>\n",
       "      <td>1512500.0</td>\n",
       "      <td>1513700.0</td>\n",
       "      <td>1513600.0</td>\n",
       "      <td>1508100.0</td>\n",
       "      <td>1502300.0</td>\n",
       "      <td>1496300.0</td>\n",
       "    </tr>\n",
       "    <tr>\n",
       "      <th>2</th>\n",
       "      <td>93144.0</td>\n",
       "      <td>79936.0</td>\n",
       "      <td>El Paso</td>\n",
       "      <td>TX</td>\n",
       "      <td>El Paso</td>\n",
       "      <td>El Paso</td>\n",
       "      <td>3.0</td>\n",
       "      <td>70900.0</td>\n",
       "      <td>71200.0</td>\n",
       "      <td>71100.0</td>\n",
       "      <td>...</td>\n",
       "      <td>114000.0</td>\n",
       "      <td>113800.0</td>\n",
       "      <td>114000.0</td>\n",
       "      <td>114000.0</td>\n",
       "      <td>113800.0</td>\n",
       "      <td>113700.0</td>\n",
       "      <td>114200.0</td>\n",
       "      <td>114300.0</td>\n",
       "      <td>114000.0</td>\n",
       "      <td>114000.0</td>\n",
       "    </tr>\n",
       "    <tr>\n",
       "      <th>3</th>\n",
       "      <td>84640.0</td>\n",
       "      <td>60640.0</td>\n",
       "      <td>Chicago</td>\n",
       "      <td>IL</td>\n",
       "      <td>Chicago</td>\n",
       "      <td>Cook</td>\n",
       "      <td>4.0</td>\n",
       "      <td>298200.0</td>\n",
       "      <td>297400.0</td>\n",
       "      <td>295300.0</td>\n",
       "      <td>...</td>\n",
       "      <td>735700.0</td>\n",
       "      <td>728400.0</td>\n",
       "      <td>726800.0</td>\n",
       "      <td>724900.0</td>\n",
       "      <td>717200.0</td>\n",
       "      <td>709400.0</td>\n",
       "      <td>707700.0</td>\n",
       "      <td>708300.0</td>\n",
       "      <td>704800.0</td>\n",
       "      <td>700900.0</td>\n",
       "    </tr>\n",
       "    <tr>\n",
       "      <th>4</th>\n",
       "      <td>61807.0</td>\n",
       "      <td>10467.0</td>\n",
       "      <td>New York</td>\n",
       "      <td>NY</td>\n",
       "      <td>New York</td>\n",
       "      <td>Bronx</td>\n",
       "      <td>5.0</td>\n",
       "      <td>NaN</td>\n",
       "      <td>NaN</td>\n",
       "      <td>NaN</td>\n",
       "      <td>...</td>\n",
       "      <td>392700.0</td>\n",
       "      <td>396300.0</td>\n",
       "      <td>399100.0</td>\n",
       "      <td>401000.0</td>\n",
       "      <td>403100.0</td>\n",
       "      <td>405200.0</td>\n",
       "      <td>407600.0</td>\n",
       "      <td>408800.0</td>\n",
       "      <td>409600.0</td>\n",
       "      <td>410500.0</td>\n",
       "    </tr>\n",
       "  </tbody>\n",
       "</table>\n",
       "<p>5 rows × 268 columns</p>\n",
       "</div>"
      ],
      "text/plain": [
       "   RegionID  RegionName      City State     Metro CountyName  SizeRank  \\\n",
       "0   84654.0     60657.0   Chicago    IL   Chicago       Cook       1.0   \n",
       "1   84616.0     60614.0   Chicago    IL   Chicago       Cook       2.0   \n",
       "2   93144.0     79936.0   El Paso    TX   El Paso    El Paso       3.0   \n",
       "3   84640.0     60640.0   Chicago    IL   Chicago       Cook       4.0   \n",
       "4   61807.0     10467.0  New York    NY  New York      Bronx       5.0   \n",
       "\n",
       "    1996-04   1996-05   1996-06    ...        2017-03    2017-04    2017-05  \\\n",
       "0  420800.0  423500.0  426200.0    ...      1087500.0  1080200.0  1073700.0   \n",
       "1  542400.0  546700.0  551700.0    ...      1526300.0  1527000.0  1524600.0   \n",
       "2   70900.0   71200.0   71100.0    ...       114000.0   113800.0   114000.0   \n",
       "3  298200.0  297400.0  295300.0    ...       735700.0   728400.0   726800.0   \n",
       "4       NaN       NaN       NaN    ...       392700.0   396300.0   399100.0   \n",
       "\n",
       "     2017-06    2017-07    2017-08    2017-09    2017-10    2017-11    2017-12  \n",
       "0  1064100.0  1052600.0  1047600.0  1047700.0  1047600.0  1048800.0  1051600.0  \n",
       "1  1516600.0  1512500.0  1513700.0  1513600.0  1508100.0  1502300.0  1496300.0  \n",
       "2   114000.0   113800.0   113700.0   114200.0   114300.0   114000.0   114000.0  \n",
       "3   724900.0   717200.0   709400.0   707700.0   708300.0   704800.0   700900.0  \n",
       "4   401000.0   403100.0   405200.0   407600.0   408800.0   409600.0   410500.0  \n",
       "\n",
       "[5 rows x 268 columns]"
      ]
     },
     "execution_count": 4,
     "metadata": {},
     "output_type": "execute_result"
    }
   ],
   "source": [
    "p_zip.head()"
   ]
  },
  {
   "cell_type": "code",
   "execution_count": 5,
   "metadata": {
    "collapsed": true
   },
   "outputs": [],
   "source": [
    "p_zipdrop = p_zip.drop(['City', 'RegionName', 'State', 'Metro', 'CountyName', 'SizeRank'], axis=1)"
   ]
  },
  {
   "cell_type": "code",
   "execution_count": 6,
   "metadata": {
    "collapsed": true
   },
   "outputs": [],
   "source": [
    "T_pzip = p_zipdrop.set_index('RegionID').T"
   ]
  },
  {
   "cell_type": "code",
   "execution_count": 7,
   "metadata": {
    "collapsed": false
   },
   "outputs": [
    {
     "data": {
      "text/html": [
       "<div>\n",
       "<table border=\"1\" class=\"dataframe\">\n",
       "  <thead>\n",
       "    <tr style=\"text-align: right;\">\n",
       "      <th>RegionID</th>\n",
       "      <th>84654.0</th>\n",
       "      <th>84616.0</th>\n",
       "      <th>93144.0</th>\n",
       "      <th>84640.0</th>\n",
       "      <th>61807.0</th>\n",
       "      <th>91733.0</th>\n",
       "      <th>97564.0</th>\n",
       "      <th>90668.0</th>\n",
       "      <th>62037.0</th>\n",
       "      <th>91940.0</th>\n",
       "      <th>...</th>\n",
       "      <th>81927.0</th>\n",
       "      <th>99032.0</th>\n",
       "      <th>62697.0</th>\n",
       "      <th>58333.0</th>\n",
       "      <th>99074.0</th>\n",
       "      <th>73940.0</th>\n",
       "      <th>59107.0</th>\n",
       "      <th>66881.0</th>\n",
       "      <th>94815.0</th>\n",
       "      <th>nan</th>\n",
       "    </tr>\n",
       "  </thead>\n",
       "  <tbody>\n",
       "    <tr>\n",
       "      <th>2017-03</th>\n",
       "      <td>1.0875e+06</td>\n",
       "      <td>1.5263e+06</td>\n",
       "      <td>114000</td>\n",
       "      <td>735700</td>\n",
       "      <td>392700</td>\n",
       "      <td>154700</td>\n",
       "      <td>3.9121e+06</td>\n",
       "      <td>313300</td>\n",
       "      <td>932200</td>\n",
       "      <td>155700</td>\n",
       "      <td>...</td>\n",
       "      <td>145100</td>\n",
       "      <td>317700</td>\n",
       "      <td>104700</td>\n",
       "      <td>216000</td>\n",
       "      <td>633400</td>\n",
       "      <td>550500</td>\n",
       "      <td>183600</td>\n",
       "      <td>761000</td>\n",
       "      <td>187500</td>\n",
       "      <td>NaN</td>\n",
       "    </tr>\n",
       "    <tr>\n",
       "      <th>2017-04</th>\n",
       "      <td>1.0802e+06</td>\n",
       "      <td>1.527e+06</td>\n",
       "      <td>113800</td>\n",
       "      <td>728400</td>\n",
       "      <td>396300</td>\n",
       "      <td>155600</td>\n",
       "      <td>3.9122e+06</td>\n",
       "      <td>315600</td>\n",
       "      <td>934700</td>\n",
       "      <td>156900</td>\n",
       "      <td>...</td>\n",
       "      <td>143200</td>\n",
       "      <td>316200</td>\n",
       "      <td>106600</td>\n",
       "      <td>217900</td>\n",
       "      <td>621000</td>\n",
       "      <td>563900</td>\n",
       "      <td>182800</td>\n",
       "      <td>762300</td>\n",
       "      <td>187600</td>\n",
       "      <td>NaN</td>\n",
       "    </tr>\n",
       "    <tr>\n",
       "      <th>2017-05</th>\n",
       "      <td>1.0737e+06</td>\n",
       "      <td>1.5246e+06</td>\n",
       "      <td>114000</td>\n",
       "      <td>726800</td>\n",
       "      <td>399100</td>\n",
       "      <td>158700</td>\n",
       "      <td>3.9223e+06</td>\n",
       "      <td>317800</td>\n",
       "      <td>935300</td>\n",
       "      <td>159600</td>\n",
       "      <td>...</td>\n",
       "      <td>140800</td>\n",
       "      <td>317800</td>\n",
       "      <td>108100</td>\n",
       "      <td>219200</td>\n",
       "      <td>611300</td>\n",
       "      <td>565300</td>\n",
       "      <td>183400</td>\n",
       "      <td>770500</td>\n",
       "      <td>187200</td>\n",
       "      <td>NaN</td>\n",
       "    </tr>\n",
       "    <tr>\n",
       "      <th>2017-06</th>\n",
       "      <td>1.0641e+06</td>\n",
       "      <td>1.5166e+06</td>\n",
       "      <td>114000</td>\n",
       "      <td>724900</td>\n",
       "      <td>401000</td>\n",
       "      <td>160700</td>\n",
       "      <td>3.9595e+06</td>\n",
       "      <td>318600</td>\n",
       "      <td>935200</td>\n",
       "      <td>161300</td>\n",
       "      <td>...</td>\n",
       "      <td>140400</td>\n",
       "      <td>322700</td>\n",
       "      <td>108600</td>\n",
       "      <td>220000</td>\n",
       "      <td>601900</td>\n",
       "      <td>565500</td>\n",
       "      <td>186200</td>\n",
       "      <td>777900</td>\n",
       "      <td>188200</td>\n",
       "      <td>NaN</td>\n",
       "    </tr>\n",
       "    <tr>\n",
       "      <th>2017-07</th>\n",
       "      <td>1.0526e+06</td>\n",
       "      <td>1.5125e+06</td>\n",
       "      <td>113800</td>\n",
       "      <td>717200</td>\n",
       "      <td>403100</td>\n",
       "      <td>161300</td>\n",
       "      <td>3.9815e+06</td>\n",
       "      <td>318400</td>\n",
       "      <td>933100</td>\n",
       "      <td>162300</td>\n",
       "      <td>...</td>\n",
       "      <td>142300</td>\n",
       "      <td>327600</td>\n",
       "      <td>108800</td>\n",
       "      <td>220100</td>\n",
       "      <td>604700</td>\n",
       "      <td>563700</td>\n",
       "      <td>189000</td>\n",
       "      <td>780700</td>\n",
       "      <td>190400</td>\n",
       "      <td>NaN</td>\n",
       "    </tr>\n",
       "    <tr>\n",
       "      <th>2017-08</th>\n",
       "      <td>1.0476e+06</td>\n",
       "      <td>1.5137e+06</td>\n",
       "      <td>113700</td>\n",
       "      <td>709400</td>\n",
       "      <td>405200</td>\n",
       "      <td>162500</td>\n",
       "      <td>3.9534e+06</td>\n",
       "      <td>319100</td>\n",
       "      <td>921100</td>\n",
       "      <td>163900</td>\n",
       "      <td>...</td>\n",
       "      <td>144500</td>\n",
       "      <td>332500</td>\n",
       "      <td>109400</td>\n",
       "      <td>220200</td>\n",
       "      <td>618700</td>\n",
       "      <td>554400</td>\n",
       "      <td>190300</td>\n",
       "      <td>776800</td>\n",
       "      <td>192700</td>\n",
       "      <td>NaN</td>\n",
       "    </tr>\n",
       "    <tr>\n",
       "      <th>2017-09</th>\n",
       "      <td>1.0477e+06</td>\n",
       "      <td>1.5136e+06</td>\n",
       "      <td>114200</td>\n",
       "      <td>707700</td>\n",
       "      <td>407600</td>\n",
       "      <td>164000</td>\n",
       "      <td>3.8946e+06</td>\n",
       "      <td>322100</td>\n",
       "      <td>914000</td>\n",
       "      <td>165300</td>\n",
       "      <td>...</td>\n",
       "      <td>146400</td>\n",
       "      <td>336600</td>\n",
       "      <td>109800</td>\n",
       "      <td>221200</td>\n",
       "      <td>627100</td>\n",
       "      <td>544800</td>\n",
       "      <td>191000</td>\n",
       "      <td>772300</td>\n",
       "      <td>194100</td>\n",
       "      <td>NaN</td>\n",
       "    </tr>\n",
       "    <tr>\n",
       "      <th>2017-10</th>\n",
       "      <td>1.0476e+06</td>\n",
       "      <td>1.5081e+06</td>\n",
       "      <td>114300</td>\n",
       "      <td>708300</td>\n",
       "      <td>408800</td>\n",
       "      <td>164400</td>\n",
       "      <td>3.896e+06</td>\n",
       "      <td>324600</td>\n",
       "      <td>919700</td>\n",
       "      <td>166400</td>\n",
       "      <td>...</td>\n",
       "      <td>146700</td>\n",
       "      <td>336100</td>\n",
       "      <td>111000</td>\n",
       "      <td>222200</td>\n",
       "      <td>630900</td>\n",
       "      <td>538500</td>\n",
       "      <td>191300</td>\n",
       "      <td>772200</td>\n",
       "      <td>194700</td>\n",
       "      <td>NaN</td>\n",
       "    </tr>\n",
       "    <tr>\n",
       "      <th>2017-11</th>\n",
       "      <td>1.0488e+06</td>\n",
       "      <td>1.5023e+06</td>\n",
       "      <td>114000</td>\n",
       "      <td>704800</td>\n",
       "      <td>409600</td>\n",
       "      <td>164200</td>\n",
       "      <td>3.9526e+06</td>\n",
       "      <td>325300</td>\n",
       "      <td>933000</td>\n",
       "      <td>168300</td>\n",
       "      <td>...</td>\n",
       "      <td>145700</td>\n",
       "      <td>333100</td>\n",
       "      <td>113400</td>\n",
       "      <td>223700</td>\n",
       "      <td>635800</td>\n",
       "      <td>539500</td>\n",
       "      <td>191600</td>\n",
       "      <td>772400</td>\n",
       "      <td>193400</td>\n",
       "      <td>NaN</td>\n",
       "    </tr>\n",
       "    <tr>\n",
       "      <th>2017-12</th>\n",
       "      <td>1.0516e+06</td>\n",
       "      <td>1.4963e+06</td>\n",
       "      <td>114000</td>\n",
       "      <td>700900</td>\n",
       "      <td>410500</td>\n",
       "      <td>164000</td>\n",
       "      <td>4.007e+06</td>\n",
       "      <td>324900</td>\n",
       "      <td>940100</td>\n",
       "      <td>170200</td>\n",
       "      <td>...</td>\n",
       "      <td>144700</td>\n",
       "      <td>331800</td>\n",
       "      <td>115800</td>\n",
       "      <td>225400</td>\n",
       "      <td>640900</td>\n",
       "      <td>542900</td>\n",
       "      <td>192800</td>\n",
       "      <td>765700</td>\n",
       "      <td>191100</td>\n",
       "      <td>NaN</td>\n",
       "    </tr>\n",
       "  </tbody>\n",
       "</table>\n",
       "<p>10 rows × 15339 columns</p>\n",
       "</div>"
      ],
      "text/plain": [
       "RegionID     84654.0     84616.0  93144.0  84640.0  61807.0  91733.0  \\\n",
       "2017-03   1.0875e+06  1.5263e+06   114000   735700   392700   154700   \n",
       "2017-04   1.0802e+06   1.527e+06   113800   728400   396300   155600   \n",
       "2017-05   1.0737e+06  1.5246e+06   114000   726800   399100   158700   \n",
       "2017-06   1.0641e+06  1.5166e+06   114000   724900   401000   160700   \n",
       "2017-07   1.0526e+06  1.5125e+06   113800   717200   403100   161300   \n",
       "2017-08   1.0476e+06  1.5137e+06   113700   709400   405200   162500   \n",
       "2017-09   1.0477e+06  1.5136e+06   114200   707700   407600   164000   \n",
       "2017-10   1.0476e+06  1.5081e+06   114300   708300   408800   164400   \n",
       "2017-11   1.0488e+06  1.5023e+06   114000   704800   409600   164200   \n",
       "2017-12   1.0516e+06  1.4963e+06   114000   700900   410500   164000   \n",
       "\n",
       "RegionID     97564.0  90668.0  62037.0  91940.0   ...     81927.0  99032.0  \\\n",
       "2017-03   3.9121e+06   313300   932200   155700   ...      145100   317700   \n",
       "2017-04   3.9122e+06   315600   934700   156900   ...      143200   316200   \n",
       "2017-05   3.9223e+06   317800   935300   159600   ...      140800   317800   \n",
       "2017-06   3.9595e+06   318600   935200   161300   ...      140400   322700   \n",
       "2017-07   3.9815e+06   318400   933100   162300   ...      142300   327600   \n",
       "2017-08   3.9534e+06   319100   921100   163900   ...      144500   332500   \n",
       "2017-09   3.8946e+06   322100   914000   165300   ...      146400   336600   \n",
       "2017-10    3.896e+06   324600   919700   166400   ...      146700   336100   \n",
       "2017-11   3.9526e+06   325300   933000   168300   ...      145700   333100   \n",
       "2017-12    4.007e+06   324900   940100   170200   ...      144700   331800   \n",
       "\n",
       "RegionID  62697.0  58333.0  99074.0  73940.0  59107.0  66881.0  94815.0  \\\n",
       "2017-03    104700   216000   633400   550500   183600   761000   187500   \n",
       "2017-04    106600   217900   621000   563900   182800   762300   187600   \n",
       "2017-05    108100   219200   611300   565300   183400   770500   187200   \n",
       "2017-06    108600   220000   601900   565500   186200   777900   188200   \n",
       "2017-07    108800   220100   604700   563700   189000   780700   190400   \n",
       "2017-08    109400   220200   618700   554400   190300   776800   192700   \n",
       "2017-09    109800   221200   627100   544800   191000   772300   194100   \n",
       "2017-10    111000   222200   630900   538500   191300   772200   194700   \n",
       "2017-11    113400   223700   635800   539500   191600   772400   193400   \n",
       "2017-12    115800   225400   640900   542900   192800   765700   191100   \n",
       "\n",
       "RegionID NaN       \n",
       "2017-03       NaN  \n",
       "2017-04       NaN  \n",
       "2017-05       NaN  \n",
       "2017-06       NaN  \n",
       "2017-07       NaN  \n",
       "2017-08       NaN  \n",
       "2017-09       NaN  \n",
       "2017-10       NaN  \n",
       "2017-11       NaN  \n",
       "2017-12       NaN  \n",
       "\n",
       "[10 rows x 15339 columns]"
      ]
     },
     "execution_count": 7,
     "metadata": {},
     "output_type": "execute_result"
    }
   ],
   "source": [
    "T_pzip.tail(10)"
   ]
  },
  {
   "cell_type": "code",
   "execution_count": 8,
   "metadata": {
    "collapsed": true
   },
   "outputs": [],
   "source": [
    "T_pzip.index = pd.to_datetime(T_pzip.index)"
   ]
  },
  {
   "cell_type": "code",
   "execution_count": 10,
   "metadata": {
    "collapsed": false
   },
   "outputs": [
    {
     "data": {
      "text/plain": [
       "(261, 15339)"
      ]
     },
     "execution_count": 10,
     "metadata": {},
     "output_type": "execute_result"
    }
   ],
   "source": [
    "T_pzip.shape"
   ]
  },
  {
   "cell_type": "markdown",
   "metadata": {
    "collapsed": true
   },
   "source": [
    "df.drop(df.columns[[1, 69]], axis=1, inplace=True)"
   ]
  },
  {
   "cell_type": "code",
   "execution_count": 11,
   "metadata": {
    "collapsed": false
   },
   "outputs": [
    {
     "data": {
      "text/plain": [
       "(261, 15338)"
      ]
     },
     "execution_count": 11,
     "metadata": {},
     "output_type": "execute_result"
    },
    {
     "data": {
      "text/html": [
       "<div>\n",
       "<table border=\"1\" class=\"dataframe\">\n",
       "  <thead>\n",
       "    <tr style=\"text-align: right;\">\n",
       "      <th>RegionID</th>\n",
       "      <th>84654.0</th>\n",
       "      <th>84616.0</th>\n",
       "      <th>93144.0</th>\n",
       "      <th>84640.0</th>\n",
       "      <th>61807.0</th>\n",
       "      <th>91733.0</th>\n",
       "      <th>97564.0</th>\n",
       "      <th>90668.0</th>\n",
       "      <th>62037.0</th>\n",
       "      <th>91940.0</th>\n",
       "      <th>...</th>\n",
       "      <th>62556.0</th>\n",
       "      <th>81927.0</th>\n",
       "      <th>99032.0</th>\n",
       "      <th>62697.0</th>\n",
       "      <th>58333.0</th>\n",
       "      <th>99074.0</th>\n",
       "      <th>73940.0</th>\n",
       "      <th>59107.0</th>\n",
       "      <th>66881.0</th>\n",
       "      <th>94815.0</th>\n",
       "    </tr>\n",
       "  </thead>\n",
       "  <tbody>\n",
       "    <tr>\n",
       "      <th>1996-04-01</th>\n",
       "      <td>420800</td>\n",
       "      <td>542400</td>\n",
       "      <td>70900</td>\n",
       "      <td>298200</td>\n",
       "      <td>NaN</td>\n",
       "      <td>76700</td>\n",
       "      <td>NaN</td>\n",
       "      <td>NaN</td>\n",
       "      <td>NaN</td>\n",
       "      <td>72300</td>\n",
       "      <td>...</td>\n",
       "      <td>75400</td>\n",
       "      <td>201000</td>\n",
       "      <td>146900</td>\n",
       "      <td>68300</td>\n",
       "      <td>98900</td>\n",
       "      <td>NaN</td>\n",
       "      <td>NaN</td>\n",
       "      <td>86700</td>\n",
       "      <td>253500</td>\n",
       "      <td>NaN</td>\n",
       "    </tr>\n",
       "  </tbody>\n",
       "</table>\n",
       "<p>1 rows × 15338 columns</p>\n",
       "</div>"
      ],
      "text/plain": [
       "RegionID   84654.0 84616.0 93144.0 84640.0 61807.0 91733.0 97564.0 90668.0  \\\n",
       "1996-04-01  420800  542400   70900  298200     NaN   76700     NaN     NaN   \n",
       "\n",
       "RegionID   62037.0 91940.0   ...   62556.0 81927.0 99032.0 62697.0 58333.0  \\\n",
       "1996-04-01     NaN   72300   ...     75400  201000  146900   68300   98900   \n",
       "\n",
       "RegionID   99074.0 73940.0 59107.0 66881.0 94815.0  \n",
       "1996-04-01     NaN     NaN   86700  253500     NaN  \n",
       "\n",
       "[1 rows x 15338 columns]"
      ]
     },
     "execution_count": 11,
     "metadata": {},
     "output_type": "execute_result"
    }
   ],
   "source": [
    "T_pzip.drop(T_pzip.columns[[15338]], axis=1, inplace=True)\n",
    "T_pzip.shape\n",
    "T_pzip.head(1)"
   ]
  },
  {
   "cell_type": "code",
   "execution_count": 40,
   "metadata": {
    "collapsed": false
   },
   "outputs": [],
   "source": [
    "T_pzip = T_pzip.fillna(0)"
   ]
  },
  {
   "cell_type": "code",
   "execution_count": 13,
   "metadata": {
    "collapsed": false
   },
   "outputs": [],
   "source": [
    "T_pzip = T_pzip.astype(float)"
   ]
  },
  {
   "cell_type": "markdown",
   "metadata": {},
   "source": [
    "df['f']=df.iloc[:,0:2].sum(axis=1)"
   ]
  },
  {
   "cell_type": "code",
   "execution_count": 15,
   "metadata": {
    "collapsed": true
   },
   "outputs": [],
   "source": [
    "T_pzip['Total']=T_pzip.iloc[:,0:15337].sum(axis=1)"
   ]
  },
  {
   "cell_type": "code",
   "execution_count": 16,
   "metadata": {
    "collapsed": true
   },
   "outputs": [],
   "source": [
    "T_pzip['Average']=T_pzip[T_pzip.iloc[:,0:15337]!=0].mean(axis=1)"
   ]
  },
  {
   "cell_type": "code",
   "execution_count": 41,
   "metadata": {
    "collapsed": false
   },
   "outputs": [
    {
     "data": {
      "text/html": [
       "<div>\n",
       "<table border=\"1\" class=\"dataframe\">\n",
       "  <thead>\n",
       "    <tr style=\"text-align: right;\">\n",
       "      <th>RegionID</th>\n",
       "      <th>84654.0</th>\n",
       "      <th>84616.0</th>\n",
       "      <th>93144.0</th>\n",
       "      <th>84640.0</th>\n",
       "      <th>61807.0</th>\n",
       "      <th>91733.0</th>\n",
       "      <th>97564.0</th>\n",
       "      <th>90668.0</th>\n",
       "      <th>62037.0</th>\n",
       "      <th>91940.0</th>\n",
       "      <th>...</th>\n",
       "      <th>62697.0</th>\n",
       "      <th>58333.0</th>\n",
       "      <th>99074.0</th>\n",
       "      <th>73940.0</th>\n",
       "      <th>59107.0</th>\n",
       "      <th>66881.0</th>\n",
       "      <th>94815.0</th>\n",
       "      <th>Total</th>\n",
       "      <th>Average</th>\n",
       "      <th>month</th>\n",
       "    </tr>\n",
       "  </thead>\n",
       "  <tbody>\n",
       "    <tr>\n",
       "      <th>1996-04-01</th>\n",
       "      <td>420800.0</td>\n",
       "      <td>542400.0</td>\n",
       "      <td>70900.0</td>\n",
       "      <td>298200.0</td>\n",
       "      <td>0.0</td>\n",
       "      <td>76700.0</td>\n",
       "      <td>0.0</td>\n",
       "      <td>0.0</td>\n",
       "      <td>0.0</td>\n",
       "      <td>72300.0</td>\n",
       "      <td>...</td>\n",
       "      <td>68300.0</td>\n",
       "      <td>98900.0</td>\n",
       "      <td>0.0</td>\n",
       "      <td>0.0</td>\n",
       "      <td>86700.0</td>\n",
       "      <td>253500.0</td>\n",
       "      <td>0.0</td>\n",
       "      <td>1.375066e+09</td>\n",
       "      <td>123257.968806</td>\n",
       "      <td>4</td>\n",
       "    </tr>\n",
       "    <tr>\n",
       "      <th>1996-05-01</th>\n",
       "      <td>423500.0</td>\n",
       "      <td>546700.0</td>\n",
       "      <td>71200.0</td>\n",
       "      <td>297400.0</td>\n",
       "      <td>0.0</td>\n",
       "      <td>76500.0</td>\n",
       "      <td>0.0</td>\n",
       "      <td>0.0</td>\n",
       "      <td>0.0</td>\n",
       "      <td>72400.0</td>\n",
       "      <td>...</td>\n",
       "      <td>67900.0</td>\n",
       "      <td>98100.0</td>\n",
       "      <td>0.0</td>\n",
       "      <td>0.0</td>\n",
       "      <td>87500.0</td>\n",
       "      <td>254000.0</td>\n",
       "      <td>0.0</td>\n",
       "      <td>1.390402e+09</td>\n",
       "      <td>123175.239192</td>\n",
       "      <td>5</td>\n",
       "    </tr>\n",
       "    <tr>\n",
       "      <th>1996-06-01</th>\n",
       "      <td>426200.0</td>\n",
       "      <td>551700.0</td>\n",
       "      <td>71100.0</td>\n",
       "      <td>295300.0</td>\n",
       "      <td>0.0</td>\n",
       "      <td>76000.0</td>\n",
       "      <td>0.0</td>\n",
       "      <td>0.0</td>\n",
       "      <td>0.0</td>\n",
       "      <td>72000.0</td>\n",
       "      <td>...</td>\n",
       "      <td>69800.0</td>\n",
       "      <td>97800.0</td>\n",
       "      <td>0.0</td>\n",
       "      <td>0.0</td>\n",
       "      <td>88100.0</td>\n",
       "      <td>255300.0</td>\n",
       "      <td>0.0</td>\n",
       "      <td>1.393134e+09</td>\n",
       "      <td>123144.532838</td>\n",
       "      <td>6</td>\n",
       "    </tr>\n",
       "    <tr>\n",
       "      <th>1996-07-01</th>\n",
       "      <td>428600.0</td>\n",
       "      <td>565000.0</td>\n",
       "      <td>71300.0</td>\n",
       "      <td>294600.0</td>\n",
       "      <td>0.0</td>\n",
       "      <td>75800.0</td>\n",
       "      <td>0.0</td>\n",
       "      <td>0.0</td>\n",
       "      <td>0.0</td>\n",
       "      <td>71600.0</td>\n",
       "      <td>...</td>\n",
       "      <td>70500.0</td>\n",
       "      <td>97600.0</td>\n",
       "      <td>0.0</td>\n",
       "      <td>0.0</td>\n",
       "      <td>86700.0</td>\n",
       "      <td>258200.0</td>\n",
       "      <td>0.0</td>\n",
       "      <td>1.394148e+09</td>\n",
       "      <td>123157.950530</td>\n",
       "      <td>7</td>\n",
       "    </tr>\n",
       "    <tr>\n",
       "      <th>1996-08-01</th>\n",
       "      <td>429900.0</td>\n",
       "      <td>574200.0</td>\n",
       "      <td>71400.0</td>\n",
       "      <td>295700.0</td>\n",
       "      <td>0.0</td>\n",
       "      <td>75700.0</td>\n",
       "      <td>0.0</td>\n",
       "      <td>0.0</td>\n",
       "      <td>0.0</td>\n",
       "      <td>71300.0</td>\n",
       "      <td>...</td>\n",
       "      <td>67000.0</td>\n",
       "      <td>96900.0</td>\n",
       "      <td>0.0</td>\n",
       "      <td>0.0</td>\n",
       "      <td>84400.0</td>\n",
       "      <td>261000.0</td>\n",
       "      <td>0.0</td>\n",
       "      <td>1.396535e+09</td>\n",
       "      <td>123227.274332</td>\n",
       "      <td>8</td>\n",
       "    </tr>\n",
       "  </tbody>\n",
       "</table>\n",
       "<p>5 rows × 15341 columns</p>\n",
       "</div>"
      ],
      "text/plain": [
       "RegionID     84654.0   84616.0  93144.0   84640.0  61807.0  91733.0  97564.0  \\\n",
       "1996-04-01  420800.0  542400.0  70900.0  298200.0      0.0  76700.0      0.0   \n",
       "1996-05-01  423500.0  546700.0  71200.0  297400.0      0.0  76500.0      0.0   \n",
       "1996-06-01  426200.0  551700.0  71100.0  295300.0      0.0  76000.0      0.0   \n",
       "1996-07-01  428600.0  565000.0  71300.0  294600.0      0.0  75800.0      0.0   \n",
       "1996-08-01  429900.0  574200.0  71400.0  295700.0      0.0  75700.0      0.0   \n",
       "\n",
       "RegionID    90668.0  62037.0  91940.0  ...    62697.0  58333.0  99074.0  \\\n",
       "1996-04-01      0.0      0.0  72300.0  ...    68300.0  98900.0      0.0   \n",
       "1996-05-01      0.0      0.0  72400.0  ...    67900.0  98100.0      0.0   \n",
       "1996-06-01      0.0      0.0  72000.0  ...    69800.0  97800.0      0.0   \n",
       "1996-07-01      0.0      0.0  71600.0  ...    70500.0  97600.0      0.0   \n",
       "1996-08-01      0.0      0.0  71300.0  ...    67000.0  96900.0      0.0   \n",
       "\n",
       "RegionID    73940.0  59107.0   66881.0  94815.0         Total        Average  \\\n",
       "1996-04-01      0.0  86700.0  253500.0      0.0  1.375066e+09  123257.968806   \n",
       "1996-05-01      0.0  87500.0  254000.0      0.0  1.390402e+09  123175.239192   \n",
       "1996-06-01      0.0  88100.0  255300.0      0.0  1.393134e+09  123144.532838   \n",
       "1996-07-01      0.0  86700.0  258200.0      0.0  1.394148e+09  123157.950530   \n",
       "1996-08-01      0.0  84400.0  261000.0      0.0  1.396535e+09  123227.274332   \n",
       "\n",
       "RegionID    month  \n",
       "1996-04-01      4  \n",
       "1996-05-01      5  \n",
       "1996-06-01      6  \n",
       "1996-07-01      7  \n",
       "1996-08-01      8  \n",
       "\n",
       "[5 rows x 15341 columns]"
      ]
     },
     "execution_count": 41,
     "metadata": {},
     "output_type": "execute_result"
    }
   ],
   "source": [
    "T_pzip.head()"
   ]
  },
  {
   "cell_type": "code",
   "execution_count": 18,
   "metadata": {
    "collapsed": false
   },
   "outputs": [
    {
     "data": {
      "text/plain": [
       "<matplotlib.axes._subplots.AxesSubplot at 0x2751819a080>"
      ]
     },
     "execution_count": 18,
     "metadata": {},
     "output_type": "execute_result"
    },
    {
     "data": {
      "image/png": "[encoded data removed]",
      "text/plain": [
       "<matplotlib.figure.Figure at 0x2750f3650b8>"
      ]
     },
     "metadata": {},
     "output_type": "display_data"
    }
   ],
   "source": [
    "T_pzip[[0]].resample('M').sum().plot()"
   ]
  },
  {
   "cell_type": "code",
   "execution_count": 26,
   "metadata": {
    "collapsed": false
   },
   "outputs": [
    {
     "data": {
      "text/plain": [
       "<matplotlib.axes._subplots.AxesSubplot at 0x27518c7bfd0>"
      ]
     },
     "execution_count": 26,
     "metadata": {},
     "output_type": "execute_result"
    },
    {
     "data": {
      "image/png": "[encoded data removed]",
      "text/plain": [
       "<matplotlib.figure.Figure at 0x27518c7b400>"
      ]
     },
     "metadata": {},
     "output_type": "display_data"
    }
   ],
   "source": [
    "T_pzip[[0]].resample('M').mean().plot()"
   ]
  },
  {
   "cell_type": "code",
   "execution_count": 19,
   "metadata": {
    "collapsed": false
   },
   "outputs": [
    {
     "data": {
      "text/plain": [
       "<matplotlib.axes._subplots.AxesSubplot at 0x2750f5dc748>"
      ]
     },
     "execution_count": 19,
     "metadata": {},
     "output_type": "execute_result"
    },
    {
     "data": {
      "image/png": "[encoded data removed]",
      "text/plain": [
       "<matplotlib.figure.Figure at 0x27519539c50>"
      ]
     },
     "metadata": {},
     "output_type": "display_data"
    }
   ],
   "source": [
    "T_pzip[[0,1,2,3,4]].resample('M').sum().plot()"
   ]
  },
  {
   "cell_type": "code",
   "execution_count": 20,
   "metadata": {
    "collapsed": false
   },
   "outputs": [
    {
     "data": {
      "text/plain": [
       "<matplotlib.axes._subplots.AxesSubplot at 0x2751874be80>"
      ]
     },
     "execution_count": 20,
     "metadata": {},
     "output_type": "execute_result"
    },
    {
     "data": {
      "image/png": "[encoded data removed]",
      "text/plain": [
       "<matplotlib.figure.Figure at 0x2751872c5f8>"
      ]
     },
     "metadata": {},
     "output_type": "display_data"
    }
   ],
   "source": [
    "T_pzip['Total'].resample('M').sum().plot()"
   ]
  },
  {
   "cell_type": "code",
   "execution_count": 21,
   "metadata": {
    "collapsed": false
   },
   "outputs": [
    {
     "data": {
      "text/plain": [
       "<matplotlib.axes._subplots.AxesSubplot at 0x2751883bc88>"
      ]
     },
     "execution_count": 21,
     "metadata": {},
     "output_type": "execute_result"
    },
    {
     "data": {
      "image/png": "[encoded data removed]",
      "text/plain": [
       "<matplotlib.figure.Figure at 0x2751873f9b0>"
      ]
     },
     "metadata": {},
     "output_type": "display_data"
    }
   ],
   "source": [
    "T_pzip['Average'].resample('M').sum().plot()"
   ]
  },
  {
   "cell_type": "code",
   "execution_count": 22,
   "metadata": {
    "collapsed": false
   },
   "outputs": [],
   "source": [
    "T_pzip['month'] = T_pzip.index.month"
   ]
  },
  {
   "cell_type": "code",
   "execution_count": 39,
   "metadata": {
    "collapsed": false
   },
   "outputs": [
    {
     "data": {
      "text/plain": [
       "<matplotlib.axes._subplots.AxesSubplot at 0x27519458dd8>"
      ]
     },
     "execution_count": 39,
     "metadata": {},
     "output_type": "execute_result"
    },
    {
     "data": {
      "image/png": "[encoded data removed]",
      "text/plain": [
       "<matplotlib.figure.Figure at 0x275193bcf60>"
      ]
     },
     "metadata": {},
     "output_type": "display_data"
    }
   ],
   "source": [
    "T_pzip['Total'].groupby(T_pzip['month']).sum().plot(figsize=(20,6))"
   ]
  },
  {
   "cell_type": "code",
   "execution_count": 37,
   "metadata": {
    "collapsed": false
   },
   "outputs": [
    {
     "data": {
      "text/plain": [
       "<matplotlib.axes._subplots.AxesSubplot at 0x275193738d0>"
      ]
     },
     "execution_count": 37,
     "metadata": {},
     "output_type": "execute_result"
    },
    {
     "data": {
      "image/png": "[encoded data removed]",
      "text/plain": [
       "<matplotlib.figure.Figure at 0x275193d0c18>"
      ]
     },
     "metadata": {},
     "output_type": "display_data"
    }
   ],
   "source": [
    "T_pzip['Average'].groupby(T_pzip['month']).mean().plot(figsize=(20,6))"
   ]
  },
  {
   "cell_type": "code",
   "execution_count": 43,
   "metadata": {
    "collapsed": false
   },
   "outputs": [
    {
     "name": "stdout",
     "output_type": "stream",
     "text": [
      "2.7.0\n"
     ]
    }
   ],
   "source": [
    "from plotly import __version__\n",
    "from plotly.offline import download_plotlyjs, init_notebook_mode, plot, iplot\n",
    "\n",
    "print (__version__ )"
   ]
  },
  {
   "cell_type": "code",
   "execution_count": 62,
   "metadata": {
    "collapsed": false
   },
   "outputs": [
    {
     "data": {
      "text/html": [
       "<script>requirejs.config({paths: { 'plotly': ['https://cdn.plot.ly/plotly-latest.min']},});if(!window.Plotly) {{require(['plotly'],function(plotly) {window.Plotly=plotly;});}}</script>"
      ],
      "text/vnd.plotly.v1+html": [
       "<script>requirejs.config({paths: { 'plotly': ['https://cdn.plot.ly/plotly-latest.min']},});if(!window.Plotly) {{require(['plotly'],function(plotly) {window.Plotly=plotly;});}}</script>"
      ]
     },
     "metadata": {},
     "output_type": "display_data"
    }
   ],
   "source": [
    "import plotly\n",
    "plotly.offline.init_notebook_mode(connected=True)"
   ]
  },
  {
   "cell_type": "code",
   "execution_count": 60,
   "metadata": {
    "collapsed": false
   },
   "outputs": [],
   "source": [
    "import plotly.tools as tls\n",
    "import cufflinks as cf"
   ]
  },
  {
   "cell_type": "code",
   "execution_count": 70,
   "metadata": {
    "collapsed": false
   },
   "outputs": [
    {
     "data": {
      "text/html": [
       "<iframe id=\"igraph\" scrolling=\"no\" style=\"border:none;\" seamless=\"seamless\" src=\"https://plot.ly/~akell47/165.embed\" height=\"525px\" width=\"100%\"></iframe>"
      ],
      "text/plain": [
       "<plotly.tools.PlotlyDisplay object>"
      ]
     },
     "execution_count": 70,
     "metadata": {},
     "output_type": "execute_result"
    }
   ],
   "source": [
    "import plotly.plotly as py\n",
    "import plotly.graph_objs as go\n",
    "\n",
    "df = T_pzip\n",
    "\n",
    "avgP = go.Scatter(\n",
    "    x=T_pzip.index,\n",
    "    y=df['Average'],\n",
    "    name = \"Average\",\n",
    "    line = dict(color = '#17BECF'),\n",
    "    opacity = 0.8)\n",
    "\n",
    "# trace_low = go.Scatter(\n",
    "#     x=df.Date,\n",
    "#     y=df['AAPL.Low'],\n",
    "#     name = \"AAPL Low\",\n",
    "#     line = dict(color = '#7F7F7F'),\n",
    "#     opacity = 0.8)\n",
    "\n",
    "data = [avgP]\n",
    "\n",
    "layout = dict(\n",
    "    title='Average National Home Values by Zipcode',\n",
    "    xaxis=dict(\n",
    "        rangeselector=dict(\n",
    "            buttons=list([\n",
    "#                 dict(count=1,\n",
    "#                      label='1m',\n",
    "#                      step='month',\n",
    "#                      stepmode='backward'),\n",
    "                dict(count=6,\n",
    "                     label='6m',\n",
    "                     step='month',\n",
    "                     stepmode='backward'),\n",
    "                dict(step='all')\n",
    "            ])\n",
    "        ),\n",
    "        rangeslider=dict(),\n",
    "        type='date'\n",
    "    )\n",
    ")\n",
    "\n",
    "fig = dict(data=data, layout=layout)\n",
    "py.iplot(fig, filename = \"HomePriceZipCode\")"
   ]
  },
  {
   "cell_type": "code",
   "execution_count": 69,
   "metadata": {
    "collapsed": false
   },
   "outputs": [
    {
     "data": {
      "text/plain": [
       "(5632, 268)"
      ]
     },
     "execution_count": 69,
     "metadata": {},
     "output_type": "execute_result"
    },
    {
     "data": {
      "text/html": [
       "<div>\n",
       "<table border=\"1\" class=\"dataframe\">\n",
       "  <thead>\n",
       "    <tr style=\"text-align: right;\">\n",
       "      <th></th>\n",
       "      <th>RegionID</th>\n",
       "      <th>RegionName</th>\n",
       "      <th>City</th>\n",
       "      <th>State</th>\n",
       "      <th>Metro</th>\n",
       "      <th>CountyName</th>\n",
       "      <th>SizeRank</th>\n",
       "      <th>1996-04</th>\n",
       "      <th>1996-05</th>\n",
       "      <th>1996-06</th>\n",
       "      <th>...</th>\n",
       "      <th>2017-03</th>\n",
       "      <th>2017-04</th>\n",
       "      <th>2017-05</th>\n",
       "      <th>2017-06</th>\n",
       "      <th>2017-07</th>\n",
       "      <th>2017-08</th>\n",
       "      <th>2017-09</th>\n",
       "      <th>2017-10</th>\n",
       "      <th>2017-11</th>\n",
       "      <th>2017-12</th>\n",
       "    </tr>\n",
       "  </thead>\n",
       "  <tbody>\n",
       "    <tr>\n",
       "      <th>0</th>\n",
       "      <td>274772.0</td>\n",
       "      <td>Northeast Dallas</td>\n",
       "      <td>Dallas</td>\n",
       "      <td>TX</td>\n",
       "      <td>Dallas-Fort Worth</td>\n",
       "      <td>Dallas</td>\n",
       "      <td>1.0</td>\n",
       "      <td>NaN</td>\n",
       "      <td>NaN</td>\n",
       "      <td>NaN</td>\n",
       "      <td>...</td>\n",
       "      <td>316200.0</td>\n",
       "      <td>320000.0</td>\n",
       "      <td>323700.0</td>\n",
       "      <td>323900.0</td>\n",
       "      <td>322100.0</td>\n",
       "      <td>322500.0</td>\n",
       "      <td>325500.0</td>\n",
       "      <td>328700.0</td>\n",
       "      <td>329300.0</td>\n",
       "      <td>328300.0</td>\n",
       "    </tr>\n",
       "    <tr>\n",
       "      <th>1</th>\n",
       "      <td>192689.0</td>\n",
       "      <td>Paradise</td>\n",
       "      <td>Las Vegas</td>\n",
       "      <td>NV</td>\n",
       "      <td>Las Vegas</td>\n",
       "      <td>Clark</td>\n",
       "      <td>2.0</td>\n",
       "      <td>131400.0</td>\n",
       "      <td>131200.0</td>\n",
       "      <td>130900.0</td>\n",
       "      <td>...</td>\n",
       "      <td>239700.0</td>\n",
       "      <td>241100.0</td>\n",
       "      <td>243100.0</td>\n",
       "      <td>245700.0</td>\n",
       "      <td>248200.0</td>\n",
       "      <td>251200.0</td>\n",
       "      <td>255400.0</td>\n",
       "      <td>259500.0</td>\n",
       "      <td>262700.0</td>\n",
       "      <td>264600.0</td>\n",
       "    </tr>\n",
       "    <tr>\n",
       "      <th>2</th>\n",
       "      <td>112345.0</td>\n",
       "      <td>Maryvale</td>\n",
       "      <td>Phoenix</td>\n",
       "      <td>AZ</td>\n",
       "      <td>Phoenix</td>\n",
       "      <td>Maricopa</td>\n",
       "      <td>3.0</td>\n",
       "      <td>60000.0</td>\n",
       "      <td>59900.0</td>\n",
       "      <td>59900.0</td>\n",
       "      <td>...</td>\n",
       "      <td>151200.0</td>\n",
       "      <td>152200.0</td>\n",
       "      <td>153500.0</td>\n",
       "      <td>155300.0</td>\n",
       "      <td>156700.0</td>\n",
       "      <td>157900.0</td>\n",
       "      <td>159600.0</td>\n",
       "      <td>161600.0</td>\n",
       "      <td>163300.0</td>\n",
       "      <td>164600.0</td>\n",
       "    </tr>\n",
       "    <tr>\n",
       "      <th>3</th>\n",
       "      <td>27080.0</td>\n",
       "      <td>Sherman Oaks</td>\n",
       "      <td>Los Angeles</td>\n",
       "      <td>CA</td>\n",
       "      <td>Los Angeles-Long Beach-Anaheim</td>\n",
       "      <td>Los Angeles</td>\n",
       "      <td>4.0</td>\n",
       "      <td>261900.0</td>\n",
       "      <td>264400.0</td>\n",
       "      <td>266400.0</td>\n",
       "      <td>...</td>\n",
       "      <td>1115500.0</td>\n",
       "      <td>1118600.0</td>\n",
       "      <td>1119300.0</td>\n",
       "      <td>1123000.0</td>\n",
       "      <td>1129700.0</td>\n",
       "      <td>1138300.0</td>\n",
       "      <td>1148700.0</td>\n",
       "      <td>1161200.0</td>\n",
       "      <td>1169500.0</td>\n",
       "      <td>1172000.0</td>\n",
       "    </tr>\n",
       "    <tr>\n",
       "      <th>4</th>\n",
       "      <td>118208.0</td>\n",
       "      <td>South Los Angeles</td>\n",
       "      <td>Los Angeles</td>\n",
       "      <td>CA</td>\n",
       "      <td>Los Angeles-Long Beach-Anaheim</td>\n",
       "      <td>Los Angeles</td>\n",
       "      <td>5.0</td>\n",
       "      <td>117900.0</td>\n",
       "      <td>118800.0</td>\n",
       "      <td>119600.0</td>\n",
       "      <td>...</td>\n",
       "      <td>419400.0</td>\n",
       "      <td>425600.0</td>\n",
       "      <td>429700.0</td>\n",
       "      <td>432800.0</td>\n",
       "      <td>435300.0</td>\n",
       "      <td>439500.0</td>\n",
       "      <td>446000.0</td>\n",
       "      <td>451200.0</td>\n",
       "      <td>454900.0</td>\n",
       "      <td>458400.0</td>\n",
       "    </tr>\n",
       "  </tbody>\n",
       "</table>\n",
       "<p>5 rows × 268 columns</p>\n",
       "</div>"
      ],
      "text/plain": [
       "   RegionID         RegionName         City State  \\\n",
       "0  274772.0   Northeast Dallas       Dallas    TX   \n",
       "1  192689.0           Paradise    Las Vegas    NV   \n",
       "2  112345.0           Maryvale      Phoenix    AZ   \n",
       "3   27080.0       Sherman Oaks  Los Angeles    CA   \n",
       "4  118208.0  South Los Angeles  Los Angeles    CA   \n",
       "\n",
       "                            Metro   CountyName  SizeRank   1996-04   1996-05  \\\n",
       "0               Dallas-Fort Worth       Dallas       1.0       NaN       NaN   \n",
       "1                       Las Vegas        Clark       2.0  131400.0  131200.0   \n",
       "2                         Phoenix     Maricopa       3.0   60000.0   59900.0   \n",
       "3  Los Angeles-Long Beach-Anaheim  Los Angeles       4.0  261900.0  264400.0   \n",
       "4  Los Angeles-Long Beach-Anaheim  Los Angeles       5.0  117900.0  118800.0   \n",
       "\n",
       "    1996-06    ...        2017-03    2017-04    2017-05    2017-06    2017-07  \\\n",
       "0       NaN    ...       316200.0   320000.0   323700.0   323900.0   322100.0   \n",
       "1  130900.0    ...       239700.0   241100.0   243100.0   245700.0   248200.0   \n",
       "2   59900.0    ...       151200.0   152200.0   153500.0   155300.0   156700.0   \n",
       "3  266400.0    ...      1115500.0  1118600.0  1119300.0  1123000.0  1129700.0   \n",
       "4  119600.0    ...       419400.0   425600.0   429700.0   432800.0   435300.0   \n",
       "\n",
       "     2017-08    2017-09    2017-10    2017-11    2017-12  \n",
       "0   322500.0   325500.0   328700.0   329300.0   328300.0  \n",
       "1   251200.0   255400.0   259500.0   262700.0   264600.0  \n",
       "2   157900.0   159600.0   161600.0   163300.0   164600.0  \n",
       "3  1138300.0  1148700.0  1161200.0  1169500.0  1172000.0  \n",
       "4   439500.0   446000.0   451200.0   454900.0   458400.0  \n",
       "\n",
       "[5 rows x 268 columns]"
      ]
     },
     "execution_count": 69,
     "metadata": {},
     "output_type": "execute_result"
    }
   ],
   "source": [
    "p_hood = pd.read_csv(\"HomePrice_Neighborhood.csv\")\n",
    "p_hood.shape\n",
    "p_hood.head()"
   ]
  },
  {
   "cell_type": "code",
   "execution_count": null,
   "metadata": {
    "collapsed": true
   },
   "outputs": [],
   "source": []
  }
 ],
 "metadata": {
  "kernelspec": {
   "display_name": "Python 3",
   "language": "python",
   "name": "python3"
  },
  "language_info": {
   "codemirror_mode": {
    "name": "ipython",
    "version": 3
   },
   "file_extension": ".py",
   "mimetype": "text/x-python",
   "name": "python",
   "nbconvert_exporter": "python",
   "pygments_lexer": "ipython3",
   "version": "3.6.0"
  }
 },
 "nbformat": 4,
 "nbformat_minor": 2
}
